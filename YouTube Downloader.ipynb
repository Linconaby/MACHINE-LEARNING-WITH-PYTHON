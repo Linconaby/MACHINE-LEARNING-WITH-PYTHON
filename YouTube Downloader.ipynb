{
 "cells": [
  {
   "cell_type": "code",
   "execution_count": 22,
   "metadata": {},
   "outputs": [],
   "source": [
    "#Tkinter is a standard GUI library and \n",
    "#it is one of the easiest ways to build a GUI application.\n",
    "#pytube used for downloading videos from youtube"
   ]
  },
  {
   "cell_type": "code",
   "execution_count": 23,
   "metadata": {},
   "outputs": [],
   "source": [
    "from tkinter import *\n",
    "from pytube import YouTube"
   ]
  },
  {
   "cell_type": "code",
   "execution_count": 24,
   "metadata": {},
   "outputs": [],
   "source": [
    "#Create Display Window\n",
    "#Tk() used to initialize tkinter to create display window\n",
    "#geometry() used to set the window’s width and height\n",
    "#resizable(0,0) set the fix size of window\n",
    "#title() used to give the title of window"
   ]
  },
  {
   "cell_type": "code",
   "execution_count": 25,
   "metadata": {},
   "outputs": [
    {
     "data": {
      "text/plain": [
       "''"
      ]
     },
     "execution_count": 25,
     "metadata": {},
     "output_type": "execute_result"
    }
   ],
   "source": [
    "root = Tk()\n",
    "root.geometry('500x300')\n",
    "root.resizable(0,0)\n",
    "root.title('DataFlair - youtube video downloader')"
   ]
  },
  {
   "cell_type": "code",
   "execution_count": 26,
   "metadata": {},
   "outputs": [],
   "source": [
    "#Label() widget use to display text that users can’t able to modify.\n",
    "#root is the name of the window\n",
    "#text which we display the title of the label\n",
    "#font in which our text is written\n",
    "#pack organized widget in block"
   ]
  },
  {
   "cell_type": "code",
   "execution_count": 27,
   "metadata": {},
   "outputs": [],
   "source": [
    "#link is a string type variable that stores \n",
    "#the youtube video link that the user enters.\n",
    "#Entry() widget is used when we want to create \n",
    "#..an input text field.\n",
    "#width sets the width of entry widget\n",
    "#textvariable used to retrieve the value of \n",
    "#..current text variable to the entry widget\n",
    "#place() use to place the widget at a specific position"
   ]
  },
  {
   "cell_type": "code",
   "execution_count": 28,
   "metadata": {},
   "outputs": [],
   "source": [
    "Label(root, text = 'Youtube Video Downloader', font = 'arial 20 bold').pack()\n",
    "\n",
    "link = StringVar()\n",
    "Label(root, text = 'Paste Link Here:', font = 'arial 15 bold').place(x = 160, y = 60)\n",
    "link_enter = Entry(root, width = 50, textvariable = link).place(x=32, y=90)\n"
   ]
  },
  {
   "cell_type": "code",
   "execution_count": 29,
   "metadata": {},
   "outputs": [],
   "source": [
    "#Create Function to Start Downloading\n",
    "#Url variable gets the youtube link from the link \n",
    "#...variable by get() function and then str() \n",
    "#..will convert the link in string datatype."
   ]
  },
  {
   "cell_type": "code",
   "execution_count": 30,
   "metadata": {},
   "outputs": [],
   "source": [
    "#The video is download in the first present \n",
    "#....stream of that video by stream.first() method.\n",
    "\n",
    "#Button() widget used to display button on the window.\n",
    "\n",
    "#text which we display on the label\n",
    "#font in which the text is written\n",
    "#bg sets the background color\n",
    "#command is used to call the function\n",
    "#root.mainloop() is a method that \n",
    "#executes when we want to run the program."
   ]
  },
  {
   "cell_type": "code",
   "execution_count": 31,
   "metadata": {},
   "outputs": [],
   "source": [
    "def Downloader():\n",
    "    url = YouTube(str(link.get()))\n",
    "    video = url.streams.first()\n",
    "    video.download()\n",
    "    \n",
    "Label(root, text = 'DOWNLOADED', font = 'arial 15').place(x = 180, y = 120)\n",
    "    \n",
    "Button(root, text = 'DOWNLOAD', font = 'arial 15 bold', bg = 'pale violet red', padx =2, command = Downloader).place(x=180,y=150)\n",
    "\n",
    "root.mainloop()"
   ]
  },
  {
   "cell_type": "code",
   "execution_count": null,
   "metadata": {},
   "outputs": [],
   "source": []
  }
 ],
 "metadata": {
  "kernelspec": {
   "display_name": "Python 3",
   "language": "python",
   "name": "python3"
  },
  "language_info": {
   "codemirror_mode": {
    "name": "ipython",
    "version": 3
   },
   "file_extension": ".py",
   "mimetype": "text/x-python",
   "name": "python",
   "nbconvert_exporter": "python",
   "pygments_lexer": "ipython3",
   "version": "3.6.4"
  }
 },
 "nbformat": 4,
 "nbformat_minor": 2
}
